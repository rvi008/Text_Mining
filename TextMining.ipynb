{
 "cells": [
  {
   "cell_type": "markdown",
   "metadata": {},
   "source": [
    "# TP de Text Mining"
   ]
  },
  {
   "cell_type": "code",
   "execution_count": 209,
   "metadata": {
    "collapsed": false
   },
   "outputs": [],
   "source": [
    "import os.path as op\n",
    "import numpy as np\n",
    "from sklearn.base import BaseEstimator, ClassifierMixin\n",
    "from glob import glob\n",
    "import re\n",
    "from collections import Counter\n",
    "import math\n",
    "from sklearn.cross_validation import cross_val_score"
   ]
  },
  {
   "cell_type": "code",
   "execution_count": 210,
   "metadata": {
    "collapsed": false
   },
   "outputs": [
    {
     "name": "stdout",
     "output_type": "stream",
     "text": [
      "Loading dataset\n",
      "2000 documents\n"
     ]
    }
   ],
   "source": [
    "# Load data\n",
    "print(\"Loading dataset\")\n",
    "filenames_neg = sorted(glob(op.join('data', 'imdb1', 'neg', '*.txt'))) # Assumes that data are located in data/imdb1/neg\n",
    "filenames_pos = sorted(glob(op.join('data', 'imdb1', 'pos', '*.txt'))) # Assumes that data are located in data/imdb1/neg\n",
    "texts_neg = [open(f).read() for f in filenames_neg]\n",
    "texts_pos = [open(f).read() for f in filenames_pos]\n",
    "texts = texts_neg + texts_pos\n",
    "y = np.ones(len(texts), dtype=np.int)\n",
    "y[:len(texts_neg)] = 0.\n",
    "\n",
    "print(\"%d documents\" % len(texts))"
   ]
  },
  {
   "cell_type": "markdown",
   "metadata": {},
   "source": [
    "## 1) Compléter la fonction count_word"
   ]
  },
  {
   "cell_type": "code",
   "execution_count": 211,
   "metadata": {
    "collapsed": false
   },
   "outputs": [],
   "source": [
    "def count_words(texts):\n",
    "    voc = {}\n",
    "    uniq = set()\n",
    "    # Determine total number of uniques words in the whole corpus of texts\n",
    "    for text in texts :\n",
    "        words = set(re.findall(r\"\\w+\",text.lower()))\n",
    "        uniq = uniq.union(words)\n",
    "    counts = np.zeros((len(texts), len(uniq)))\n",
    "    wordidx = 0\n",
    "    for textidx,text  in enumerate(texts):\n",
    "        #print(textidx,\" / \",len(texts), \" documents\\r\" )\n",
    "        text = re.findall(r\"\\w+\",text.lower()) # Removes non-words characters and tokenize text\n",
    "        for word in text:\n",
    "                # If the word's already in the vocabulary dict, increment the count of the word in the counts matrix\n",
    "                if word in voc: # for the current document\n",
    "                    counts[textidx, voc[word]] += 1\n",
    "                # Else add the new word to the vocabulary dict and set it's index in the counts matrix\n",
    "                else:\n",
    "                    voc[word] = wordidx \n",
    "                    # increment the count in counts for the current word in the current document\n",
    "                    counts[textidx, wordidx] += 1 \n",
    "                    wordidx += 1 # Increment the index for the next new word\n",
    "    return voc, counts    \n",
    "        "
   ]
  },
  {
   "cell_type": "markdown",
   "metadata": {},
   "source": [
    "#### Test de la fonction"
   ]
  },
  {
   "cell_type": "code",
   "execution_count": 212,
   "metadata": {
    "collapsed": false
   },
   "outputs": [],
   "source": [
    "vocabulary, X = count_words(texts)"
   ]
  },
  {
   "cell_type": "code",
   "execution_count": 213,
   "metadata": {
    "collapsed": false
   },
   "outputs": [
    {
     "name": "stdout",
     "output_type": "stream",
     "text": [
      "(2000, 39696)\n"
     ]
    }
   ],
   "source": [
    "print(X.shape)"
   ]
  },
  {
   "cell_type": "markdown",
   "metadata": {},
   "source": [
    "La fonction marche correctement"
   ]
  },
  {
   "cell_type": "markdown",
   "metadata": {},
   "source": [
    "## 2) Expliquer la classification obtenue dans le fichier poldata.readme"
   ]
  },
  {
   "cell_type": "markdown",
   "metadata": {},
   "source": [
    "Voir le PDF"
   ]
  },
  {
   "cell_type": "markdown",
   "metadata": {},
   "source": [
    "## 3) implémenter le classifieur Bayésien naïf"
   ]
  },
  {
   "cell_type": "code",
   "execution_count": 214,
   "metadata": {
    "collapsed": false
   },
   "outputs": [],
   "source": [
    "class NB(BaseEstimator, ClassifierMixin):\n",
    "    def __init__(self): # No modification, everything is inherited from BaseEstimator et ClassifierMixin\n",
    "        self.prior = {}\n",
    "        self.vocabulary = {}\n",
    "        self.cond_prob = {}\n",
    "\n",
    "    def fit(self, X, y):\n",
    "        vocabulary, counts = count_words(X)\n",
    "        nDocs = len(counts)\n",
    "        C = set(y)\n",
    "        prior = {}\n",
    "        tct = np.zeros([len(C), len(vocabulary)])\n",
    "        array_condprob = np.copy(tct)\n",
    "        cond_prob = {}\n",
    "        for i,c in enumerate(C):\n",
    "            # Get lines' index according to the membership of the current class\n",
    "            ixc = np.where(y == c)[0]\n",
    "            nDocsInc = len(ixc)\n",
    "            prior[c] = nDocsInc / nDocs # class frequencies by document\n",
    "            # Gets all words associated to the current class from counts matrix\n",
    "            countsByClass = counts[ixc, :] \n",
    "            # Sum to get the number of word for each class\n",
    "            tct[i, :] = np.sum(countsByClass, axis=0)\n",
    "            # Computes the conditional probability for the word to belong to the current class \n",
    "            array_condprob[i, :] = (tct[i, :] + 1) / np.sum(tct[i, :] + 1)\n",
    "            # Stores this probabilities into a dict with key : class and value : the probability for each word\n",
    "            cond_prob[c] = array_condprob[i, :]\n",
    "        self.vocabulary = vocabulary\n",
    "        self.prior = prior\n",
    "        self.cond_prob = cond_prob\n",
    "    \n",
    "    def extract_tokens(vocabulary, doc):\n",
    "        tokens = re.findall(r\"\\w+\", doc.lower())\n",
    "        # New words missing from the training set are left over\n",
    "        return [token for token in tokens if token in vocabulary.keys()] \n",
    "        \n",
    "    def predict(self, X):\n",
    "        results = np.zeros(len(X))\n",
    "        for i,text in enumerate(X):\n",
    "            # Gets all the word from the current testing doc\n",
    "            w = NB.extract_tokens(self.vocabulary, text)\n",
    "            score, maxprob, maxclass, = 0, - math.inf, 0\n",
    "            for c in self.prior:\n",
    "                # Initializes the score based on the a priori probability of belonging to a class\n",
    "                score = np.log(self.prior[c])\n",
    "                for word in w:\n",
    "                    # Gets the index of the word in the train's counts matrix\n",
    "                    index = self.vocabulary[word]\n",
    "                    # Computes the score of the word by adding to it the log of its conditionnal probability of belonging\n",
    "                    # to the class from the train's counts matrix\n",
    "                    score += np.log(self.cond_prob[c][index])    \n",
    "                if score > maxprob:\n",
    "                    maxprob, maxclass  = score, c\n",
    "            # stores for the current document, the predicted class according to the maximum conditionnal probability        \n",
    "            results[i] = maxclass\n",
    "        return results\n",
    "    \n",
    "    def score(self, X, y):\n",
    "        return np.mean(self.predict(X) == y)\n",
    "    "
   ]
  },
  {
   "cell_type": "markdown",
   "metadata": {},
   "source": [
    "Voir le PDF pour l'interpretation de l'algorithme.\n",
    "Test du classifieur"
   ]
  },
  {
   "cell_type": "code",
   "execution_count": 215,
   "metadata": {
    "collapsed": false
   },
   "outputs": [
    {
     "name": "stdout",
     "output_type": "stream",
     "text": [
      "0.81\n"
     ]
    }
   ],
   "source": [
    "nb = NB()\n",
    "nb.fit(texts[::2], y[::2])\n",
    "print(nb.score(texts[1::2], y[1::2]))"
   ]
  },
  {
   "cell_type": "markdown",
   "metadata": {},
   "source": [
    "Le classifieur fonctionne"
   ]
  },
  {
   "cell_type": "markdown",
   "metadata": {},
   "source": [
    "## 4) Tester le classifieur avec une validation croisée à 5 passes"
   ]
  },
  {
   "cell_type": "markdown",
   "metadata": {},
   "source": [
    "Nous utilisons la cross validation de SKLEARN pour tester le classifieur"
   ]
  },
  {
   "cell_type": "code",
   "execution_count": 216,
   "metadata": {
    "collapsed": false
   },
   "outputs": [
    {
     "name": "stdout",
     "output_type": "stream",
     "text": [
      "Accuracy: 0.80 (+/- 0.07)\n"
     ]
    }
   ],
   "source": [
    "scores = cross_val_score(nb,texts[1::2], y[1::2], cv = 10)\n",
    "print(\"Accuracy: %0.2f (+/- %0.2f)\" % (scores.mean(), scores.std() * 2))"
   ]
  },
  {
   "cell_type": "markdown",
   "metadata": {},
   "source": [
    "Les résultats sont plutôts corrects"
   ]
  },
  {
   "cell_type": "markdown",
   "metadata": {},
   "source": [
    "## 5) Filtrer les stop words"
   ]
  },
  {
   "cell_type": "code",
   "execution_count": 174,
   "metadata": {
    "collapsed": false
   },
   "outputs": [],
   "source": [
    "def count_words(texts, stopwords = None):\n",
    "    voc = {}\n",
    "    uniq = set()\n",
    "    # Determine total number of uniques words in the whole corpus of texts\n",
    "    for text in texts :\n",
    "        words = re.findall(r\"\\w+\",text.lower())\n",
    "        words = set([word for word in words if word not in stopwords])\n",
    "        uniq = uniq.union(words)\n",
    "    counts = np.zeros((len(texts), len(uniq)))\n",
    "    wordidx = 0\n",
    "    for textidx,text  in enumerate(texts):\n",
    "        text = re.findall(r\"\\w+\",text.lower()) # Removes non-words characters and tokenize text\n",
    "        text = [word for word in text if word not in stopwords]\n",
    "        for word in text:\n",
    "                # If the word's already in the vocabulary dict, increment the count of the word in the counts matrix\n",
    "                if word in voc: # for the current document\n",
    "                    counts[textidx, voc[word]] += 1\n",
    "                # Else add the new word to the vocabulary dict and set it's index in the counts matrix\n",
    "                else:\n",
    "                    voc[word] = wordidx \n",
    "                    # increment the count in counts for the current word in the current document\n",
    "                    counts[textidx, wordidx] += 1 \n",
    "                    wordidx += 1 # Increment the index for the next new word\n",
    "    return voc, counts    \n",
    "\n",
    "class NB(BaseEstimator, ClassifierMixin):\n",
    "    def __init__(self): # No modification, everything is inherited from BaseEstimator et ClassifierMixin\n",
    "        self.prior = {}\n",
    "        self.vocabulary = {}\n",
    "        self.cond_prob = {}\n",
    "\n",
    "    def fit(self, X, y, stop=None):\n",
    "        vocabulary, counts = count_words(X,stop)\n",
    "        nDocs = len(counts)\n",
    "        C = set(y)\n",
    "        prior = {}\n",
    "        tct = np.zeros([len(C), len(vocabulary)])\n",
    "        array_condprob = np.copy(tct)\n",
    "        cond_prob = {}\n",
    "        for i,c in enumerate(C):\n",
    "            # Get lines' index according to the membership of the current class\n",
    "            ixc = np.where(y == c)[0]\n",
    "            nDocsInc = len(ixc)\n",
    "            prior[c] = nDocsInc / nDocs # class frequencies by document\n",
    "            # Gets all words associated to the current class from counts matrix\n",
    "            countsByClass = counts[ixc, :] \n",
    "            # Sum to get the number of word for each class\n",
    "            tct[i, :] = np.sum(countsByClass, axis=0)\n",
    "            # Computes the conditional probability for the word to belong to the current class \n",
    "            array_condprob[i, :] = (tct[i, :] + 1) / np.sum(tct[i, :] + 1)\n",
    "            # Stores this probabilities into a dict with key : class and value : the probability for each word\n",
    "            cond_prob[c] = array_condprob[i, :]\n",
    "        self.vocabulary = vocabulary\n",
    "        self.prior = prior\n",
    "        self.cond_prob = cond_prob\n",
    "    \n",
    "    def extract_tokens(vocabulary, doc):\n",
    "        tokens = re.findall(r\"\\w+\", doc.lower())\n",
    "        # New words missing from the training set are left over\n",
    "        return [token for token in tokens if token in vocabulary.keys()] \n",
    "        \n",
    "    def predict(self, X):\n",
    "        results = np.zeros(len(X))\n",
    "        for i,text in enumerate(X):\n",
    "            # Gets all the word from the current testing doc\n",
    "            w = NB.extract_tokens(self.vocabulary, text)\n",
    "            score, maxprob, maxclass, = 0, - math.inf, 0\n",
    "            for c in self.prior:\n",
    "                # Initializes the score based on the a priori probability of belonging to a class\n",
    "                score = np.log(self.prior[c])\n",
    "                for word in w:\n",
    "                    # Gets the index of the word in the train's counts matrix\n",
    "                    index = self.vocabulary[word]\n",
    "                    # Computes the score of the word by adding to it the log of its conditionnal probability of belonging\n",
    "                    # to the class from the train's counts matrix\n",
    "                    score += np.log(self.cond_prob[c][index])    \n",
    "                if score > maxprob:\n",
    "                    maxprob, maxclass  = score, c\n",
    "            # stores for the current document, the predicted class according to the maximum conditionnal probability        \n",
    "            results[i] = maxclass\n",
    "        return results\n",
    "    \n",
    "    def score(self, X, y):\n",
    "        return np.mean(self.predict(X) == y)\n",
    "\n",
    "    \n",
    "f = open(\"data/english.stop\")\n",
    "stop = f.read().splitlines()\n",
    "f.close()"
   ]
  },
  {
   "cell_type": "markdown",
   "metadata": {},
   "source": [
    "Retestons les performances"
   ]
  },
  {
   "cell_type": "code",
   "execution_count": 199,
   "metadata": {
    "collapsed": false
   },
   "outputs": [
    {
     "name": "stdout",
     "output_type": "stream",
     "text": [
      "0.812\n"
     ]
    }
   ],
   "source": [
    "nb = NB()\n",
    "nb.fit(texts[::2], y[::2], stop)\n",
    "print(nb.score(texts[1::2], y[1::2]))"
   ]
  },
  {
   "cell_type": "markdown",
   "metadata": {},
   "source": [
    "Avec une cross-validation"
   ]
  },
  {
   "cell_type": "code",
   "execution_count": 207,
   "metadata": {
    "collapsed": false
   },
   "outputs": [
    {
     "name": "stdout",
     "output_type": "stream",
     "text": [
      "0.7765\n",
      "0.0180693109996\n"
     ]
    }
   ],
   "source": [
    "scores = []\n",
    "for _ in range(5):\n",
    "    randidx = np.random.randint(0, len(texts), int(len(texts)/5))\n",
    "    subset_train = [texts[i] for i in randidx]\n",
    "    labels_train = [y[i] for i in randidx]\n",
    "    nb.fit(subset_train, labels_train, stop)\n",
    "    randidx = np.random.randint(0, len(texts), int(len(texts)/5))\n",
    "    subset_test = [texts[i] for i in randidx]\n",
    "    labels_test = [y[i] for i in randidx]\n",
    "    scores.append(nb.score(subset_test, labels_test))\n",
    "print(np.mean(scores))\n",
    "print(np.std(scores))"
   ]
  },
  {
   "cell_type": "markdown",
   "metadata": {},
   "source": [
    "Le score obtenu est quasi identique au précédent mais on note qu'il est beaucoup plus stable car la déviation standard est petite."
   ]
  },
  {
   "cell_type": "markdown",
   "metadata": {},
   "source": [
    "## Utilisation de Scikit learn"
   ]
  },
  {
   "cell_type": "markdown",
   "metadata": {},
   "source": [
    "### 1) "
   ]
  },
  {
   "cell_type": "code",
   "execution_count": 217,
   "metadata": {
    "collapsed": true
   },
   "outputs": [],
   "source": [
    "from sklearn.naive_bayes import MultinomialNB\n",
    "from sklearn.feature_extraction.text import CountVectorizer\n",
    "from sklearn.pipeline import Pipeline"
   ]
  },
  {
   "cell_type": "code",
   "execution_count": 238,
   "metadata": {
    "collapsed": false
   },
   "outputs": [
    {
     "name": "stdout",
     "output_type": "stream",
     "text": [
      "Accuracy: 0.61 (+/- 0.15)\n"
     ]
    }
   ],
   "source": [
    "vectorizer = CountVectorizer(lowercase=True, stop_words=stop)\n",
    "nb = MultinomialNB()\n",
    "naiveBayes = Pipeline([('CountVectorizer', vectorizer),('MultinomialNB',nb)])\n",
    "naiveBayes.set_params(CountVectorizer__analyzer = 'char_wb').fit(texts[::2], y[::2])\n",
    "scores = cross_val_score(naiveBayes,texts[1::2], y[1::2], cv = 10)\n",
    "print(\"Accuracy: %0.2f (+/- %0.2f)\" % (scores.mean(), scores.std() * 2))"
   ]
  },
  {
   "cell_type": "code",
   "execution_count": 239,
   "metadata": {
    "collapsed": false
   },
   "outputs": [
    {
     "name": "stdout",
     "output_type": "stream",
     "text": [
      "Accuracy: 0.78 (+/- 0.04)\n"
     ]
    }
   ],
   "source": [
    "naiveBayes.set_params(CountVectorizer__analyzer = 'word').fit(texts[::2], y[::2])\n",
    "scores = cross_val_score(naiveBayes,texts[1::2], y[1::2], cv = 5)\n",
    "print(\"Accuracy: %0.2f (+/- %0.2f)\" % (scores.mean(), scores.std() * 2))"
   ]
  },
  {
   "cell_type": "code",
   "execution_count": 240,
   "metadata": {
    "collapsed": false
   },
   "outputs": [
    {
     "name": "stdout",
     "output_type": "stream",
     "text": [
      "Accuracy: 0.78 (+/- 0.08)\n"
     ]
    }
   ],
   "source": [
    "naiveBayes.set_params(CountVectorizer__ngram_range = (1,2) ).fit(texts[::2], y[::2])\n",
    "scores = cross_val_score(naiveBayes,texts[1::2], y[1::2], cv = 10)\n",
    "print(\"Accuracy: %0.2f (+/- %0.2f)\" % (scores.mean(), scores.std() * 2))"
   ]
  },
  {
   "cell_type": "markdown",
   "metadata": {},
   "source": [
    "## Test d'autres algorithmes"
   ]
  },
  {
   "cell_type": "code",
   "execution_count": 241,
   "metadata": {
    "collapsed": false
   },
   "outputs": [
    {
     "ename": "ValueError",
     "evalue": "could not convert string to float: 'plot : two teen couples go to a church party , drink and then drive . \\nthey get into an accident . \\none of the guys dies , but his girlfriend continues to see him in her life , and has nightmares . \\nwhat\\'s the deal ? \\nwatch the movie and \" sorta \" find out . . . \\ncritique : a mind-fuck movie for the teen generation that touches on a very cool idea , but presents it in a very bad package . \\nwhich is what makes this review an even harder one to write , since i generally applaud films which attempt to break the mold , mess with your head and such ( lost highway & memento ) , but there are good and bad ways of making all types of films , and these folks just didn\\'t snag this one correctly . \\nthey seem to have taken this pretty neat concept , but executed it terribly . \\nso what are the problems with the movie ? \\nwell , its main problem is that it\\'s simply too jumbled . \\nit starts off \" normal \" but then downshifts into this \" fantasy \" world in which you , as an audience member , have no idea what\\'s going on . \\nthere are dreams , there are characters coming back from the dead , there are others who look like the dead , there are strange apparitions , there are disappearances , there are a looooot of chase scenes , there are tons of weird things that happen , and most of it is simply not explained . \\nnow i personally don\\'t mind trying to unravel a film every now and then , but when all it does is give me the same clue over and over again , i get kind of fed up after a while , which is this film\\'s biggest problem . \\nit\\'s obviously got this big secret to hide , but it seems to want to hide it completely until its final five minutes . \\nand do they make things entertaining , thrilling or even engaging , in the meantime ? \\nnot really . \\nthe sad part is that the arrow and i both dig on flicks like this , so we actually figured most of it out by the half-way point , so all of the strangeness after that did start to make a little bit of sense , but it still didn\\'t the make the film all that more entertaining . \\ni guess the bottom line with movies like this is that you should always make sure that the audience is \" into it \" even before they are given the secret password to enter your world of understanding . \\ni mean , showing melissa sagemiller running away from visions for about 20 minutes throughout the movie is just plain lazy ! ! \\nokay , we get it . . . there \\nare people chasing her and we don\\'t know who they are . \\ndo we really need to see it over and over again ? \\nhow about giving us different scenes offering further insight into all of the strangeness going down in the movie ? \\napparently , the studio took this film away from its director and chopped it up themselves , and it shows . \\nthere might\\'ve been a pretty decent teen mind-fuck movie in here somewhere , but i guess \" the suits \" decided that turning it into a music video with little edge , would make more sense . \\nthe actors are pretty good for the most part , although wes bentley just seemed to be playing the exact same character that he did in american beauty , only in a new neighborhood . \\nbut my biggest kudos go out to sagemiller , who holds her own throughout the entire film , and actually has you feeling her character\\'s unraveling . \\noverall , the film doesn\\'t stick because it doesn\\'t entertain , it\\'s confusing , it rarely excites and it feels pretty redundant for most of its runtime , despite a pretty cool ending and explanation to all of the craziness that came before it . \\noh , and by the way , this is not a horror or teen slasher flick . . . it\\'s \\njust packaged to look that way because someone is apparently assuming that the genre is still hot with the kids . \\nit also wrapped production two years ago and has been sitting on the shelves ever since . \\nwhatever . . . skip \\nit ! \\nwhere\\'s joblo coming from ? \\na nightmare of elm street 3 ( 7/10 ) - blair witch 2 ( 7/10 ) - the crow ( 9/10 ) - the crow : salvation ( 4/10 ) - lost highway ( 10/10 ) - memento ( 10/10 ) - the others ( 9/10 ) - stir of echoes ( 8/10 ) \\n'",
     "output_type": "error",
     "traceback": [
      "\u001b[0;31m---------------------------------------------------------------------------\u001b[0m",
      "\u001b[0;31mValueError\u001b[0m                                Traceback (most recent call last)",
      "\u001b[0;32m<ipython-input-241-e2932eef0639>\u001b[0m in \u001b[0;36m<module>\u001b[0;34m()\u001b[0m\n\u001b[1;32m      3\u001b[0m \u001b[0;34m\u001b[0m\u001b[0m\n\u001b[1;32m      4\u001b[0m \u001b[0msvm\u001b[0m \u001b[0;34m=\u001b[0m \u001b[0mLinearSVC\u001b[0m\u001b[0;34m(\u001b[0m\u001b[0;34m)\u001b[0m\u001b[0;34m\u001b[0m\u001b[0m\n\u001b[0;32m----> 5\u001b[0;31m \u001b[0msvm\u001b[0m\u001b[0;34m.\u001b[0m\u001b[0mfit\u001b[0m\u001b[0;34m(\u001b[0m\u001b[0mtexts\u001b[0m\u001b[0;34m[\u001b[0m\u001b[0;34m:\u001b[0m\u001b[0;34m:\u001b[0m\u001b[0;36m2\u001b[0m\u001b[0;34m]\u001b[0m\u001b[0;34m,\u001b[0m \u001b[0my\u001b[0m\u001b[0;34m[\u001b[0m\u001b[0;34m:\u001b[0m\u001b[0;34m:\u001b[0m\u001b[0;36m2\u001b[0m\u001b[0;34m]\u001b[0m\u001b[0;34m)\u001b[0m\u001b[0;34m\u001b[0m\u001b[0m\n\u001b[0m",
      "\u001b[0;32m/home/raphael/anaconda3/lib/python3.5/site-packages/sklearn/svm/classes.py\u001b[0m in \u001b[0;36mfit\u001b[0;34m(self, X, y, sample_weight)\u001b[0m\n\u001b[1;32m    205\u001b[0m \u001b[0;34m\u001b[0m\u001b[0m\n\u001b[1;32m    206\u001b[0m         X, y = check_X_y(X, y, accept_sparse='csr',\n\u001b[0;32m--> 207\u001b[0;31m                          dtype=np.float64, order=\"C\")\n\u001b[0m\u001b[1;32m    208\u001b[0m         \u001b[0mcheck_classification_targets\u001b[0m\u001b[0;34m(\u001b[0m\u001b[0my\u001b[0m\u001b[0;34m)\u001b[0m\u001b[0;34m\u001b[0m\u001b[0m\n\u001b[1;32m    209\u001b[0m         \u001b[0mself\u001b[0m\u001b[0;34m.\u001b[0m\u001b[0mclasses_\u001b[0m \u001b[0;34m=\u001b[0m \u001b[0mnp\u001b[0m\u001b[0;34m.\u001b[0m\u001b[0munique\u001b[0m\u001b[0;34m(\u001b[0m\u001b[0my\u001b[0m\u001b[0;34m)\u001b[0m\u001b[0;34m\u001b[0m\u001b[0m\n",
      "\u001b[0;32m/home/raphael/anaconda3/lib/python3.5/site-packages/sklearn/utils/validation.py\u001b[0m in \u001b[0;36mcheck_X_y\u001b[0;34m(X, y, accept_sparse, dtype, order, copy, force_all_finite, ensure_2d, allow_nd, multi_output, ensure_min_samples, ensure_min_features, y_numeric, warn_on_dtype, estimator)\u001b[0m\n\u001b[1;32m    519\u001b[0m     X = check_array(X, accept_sparse, dtype, order, copy, force_all_finite,\n\u001b[1;32m    520\u001b[0m                     \u001b[0mensure_2d\u001b[0m\u001b[0;34m,\u001b[0m \u001b[0mallow_nd\u001b[0m\u001b[0;34m,\u001b[0m \u001b[0mensure_min_samples\u001b[0m\u001b[0;34m,\u001b[0m\u001b[0;34m\u001b[0m\u001b[0m\n\u001b[0;32m--> 521\u001b[0;31m                     ensure_min_features, warn_on_dtype, estimator)\n\u001b[0m\u001b[1;32m    522\u001b[0m     \u001b[0;32mif\u001b[0m \u001b[0mmulti_output\u001b[0m\u001b[0;34m:\u001b[0m\u001b[0;34m\u001b[0m\u001b[0m\n\u001b[1;32m    523\u001b[0m         y = check_array(y, 'csr', force_all_finite=True, ensure_2d=False,\n",
      "\u001b[0;32m/home/raphael/anaconda3/lib/python3.5/site-packages/sklearn/utils/validation.py\u001b[0m in \u001b[0;36mcheck_array\u001b[0;34m(array, accept_sparse, dtype, order, copy, force_all_finite, ensure_2d, allow_nd, ensure_min_samples, ensure_min_features, warn_on_dtype, estimator)\u001b[0m\n\u001b[1;32m    380\u001b[0m                                       force_all_finite)\n\u001b[1;32m    381\u001b[0m     \u001b[0;32melse\u001b[0m\u001b[0;34m:\u001b[0m\u001b[0;34m\u001b[0m\u001b[0m\n\u001b[0;32m--> 382\u001b[0;31m         \u001b[0marray\u001b[0m \u001b[0;34m=\u001b[0m \u001b[0mnp\u001b[0m\u001b[0;34m.\u001b[0m\u001b[0marray\u001b[0m\u001b[0;34m(\u001b[0m\u001b[0marray\u001b[0m\u001b[0;34m,\u001b[0m \u001b[0mdtype\u001b[0m\u001b[0;34m=\u001b[0m\u001b[0mdtype\u001b[0m\u001b[0;34m,\u001b[0m \u001b[0morder\u001b[0m\u001b[0;34m=\u001b[0m\u001b[0morder\u001b[0m\u001b[0;34m,\u001b[0m \u001b[0mcopy\u001b[0m\u001b[0;34m=\u001b[0m\u001b[0mcopy\u001b[0m\u001b[0;34m)\u001b[0m\u001b[0;34m\u001b[0m\u001b[0m\n\u001b[0m\u001b[1;32m    383\u001b[0m \u001b[0;34m\u001b[0m\u001b[0m\n\u001b[1;32m    384\u001b[0m         \u001b[0;32mif\u001b[0m \u001b[0mensure_2d\u001b[0m\u001b[0;34m:\u001b[0m\u001b[0;34m\u001b[0m\u001b[0m\n",
      "\u001b[0;31mValueError\u001b[0m: could not convert string to float: 'plot : two teen couples go to a church party , drink and then drive . \\nthey get into an accident . \\none of the guys dies , but his girlfriend continues to see him in her life , and has nightmares . \\nwhat\\'s the deal ? \\nwatch the movie and \" sorta \" find out . . . \\ncritique : a mind-fuck movie for the teen generation that touches on a very cool idea , but presents it in a very bad package . \\nwhich is what makes this review an even harder one to write , since i generally applaud films which attempt to break the mold , mess with your head and such ( lost highway & memento ) , but there are good and bad ways of making all types of films , and these folks just didn\\'t snag this one correctly . \\nthey seem to have taken this pretty neat concept , but executed it terribly . \\nso what are the problems with the movie ? \\nwell , its main problem is that it\\'s simply too jumbled . \\nit starts off \" normal \" but then downshifts into this \" fantasy \" world in which you , as an audience member , have no idea what\\'s going on . \\nthere are dreams , there are characters coming back from the dead , there are others who look like the dead , there are strange apparitions , there are disappearances , there are a looooot of chase scenes , there are tons of weird things that happen , and most of it is simply not explained . \\nnow i personally don\\'t mind trying to unravel a film every now and then , but when all it does is give me the same clue over and over again , i get kind of fed up after a while , which is this film\\'s biggest problem . \\nit\\'s obviously got this big secret to hide , but it seems to want to hide it completely until its final five minutes . \\nand do they make things entertaining , thrilling or even engaging , in the meantime ? \\nnot really . \\nthe sad part is that the arrow and i both dig on flicks like this , so we actually figured most of it out by the half-way point , so all of the strangeness after that did start to make a little bit of sense , but it still didn\\'t the make the film all that more entertaining . \\ni guess the bottom line with movies like this is that you should always make sure that the audience is \" into it \" even before they are given the secret password to enter your world of understanding . \\ni mean , showing melissa sagemiller running away from visions for about 20 minutes throughout the movie is just plain lazy ! ! \\nokay , we get it . . . there \\nare people chasing her and we don\\'t know who they are . \\ndo we really need to see it over and over again ? \\nhow about giving us different scenes offering further insight into all of the strangeness going down in the movie ? \\napparently , the studio took this film away from its director and chopped it up themselves , and it shows . \\nthere might\\'ve been a pretty decent teen mind-fuck movie in here somewhere , but i guess \" the suits \" decided that turning it into a music video with little edge , would make more sense . \\nthe actors are pretty good for the most part , although wes bentley just seemed to be playing the exact same character that he did in american beauty , only in a new neighborhood . \\nbut my biggest kudos go out to sagemiller , who holds her own throughout the entire film , and actually has you feeling her character\\'s unraveling . \\noverall , the film doesn\\'t stick because it doesn\\'t entertain , it\\'s confusing , it rarely excites and it feels pretty redundant for most of its runtime , despite a pretty cool ending and explanation to all of the craziness that came before it . \\noh , and by the way , this is not a horror or teen slasher flick . . . it\\'s \\njust packaged to look that way because someone is apparently assuming that the genre is still hot with the kids . \\nit also wrapped production two years ago and has been sitting on the shelves ever since . \\nwhatever . . . skip \\nit ! \\nwhere\\'s joblo coming from ? \\na nightmare of elm street 3 ( 7/10 ) - blair witch 2 ( 7/10 ) - the crow ( 9/10 ) - the crow : salvation ( 4/10 ) - lost highway ( 10/10 ) - memento ( 10/10 ) - the others ( 9/10 ) - stir of echoes ( 8/10 ) \\n'"
     ]
    }
   ],
   "source": [
    "from sklearn.svm import LinearSVC\n",
    "from sklearn.linear_model import LogisticRegression\n",
    "\n",
    "svm = LinearSVC()\n",
    "svm.fit(texts[::2], y[::2])\n"
   ]
  },
  {
   "cell_type": "code",
   "execution_count": null,
   "metadata": {
    "collapsed": true
   },
   "outputs": [],
   "source": []
  }
 ],
 "metadata": {
  "anaconda-cloud": {},
  "kernelspec": {
   "display_name": "Python [conda root]",
   "language": "python",
   "name": "conda-root-py"
  },
  "language_info": {
   "codemirror_mode": {
    "name": "ipython",
    "version": 3
   },
   "file_extension": ".py",
   "mimetype": "text/x-python",
   "name": "python",
   "nbconvert_exporter": "python",
   "pygments_lexer": "ipython3",
   "version": "3.5.2"
  }
 },
 "nbformat": 4,
 "nbformat_minor": 1
}
